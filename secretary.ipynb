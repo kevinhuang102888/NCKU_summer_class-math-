{
 "cells": [
  {
   "cell_type": "code",
   "execution_count": 1,
   "metadata": {
    "scrolled": true
   },
   "outputs": [
    {
     "name": "stdout",
     "output_type": "stream",
     "text": [
      "how many do you have admirers:10\n",
      "how many do you want to choose first:4\n",
      "how many time do you want to test:100\n",
      "pass score(%):100\n",
      "correct rate: 0.35\n"
     ]
    }
   ],
   "source": [
    "import random\n",
    "#使用者輸入\n",
    "total=int(input('how many do you have admirers:'))\n",
    "first=int(input('how many do you want to choose first:'))\n",
    "test=int(input('how many time do you want to test:'))\n",
    "admit=int(input('pass score(%):'))/100\n",
    "\n",
    "#計算答對率的函數\n",
    "def get_rate(total,first,test,admit):\n",
    "    score=[x for x in range(1,total*100)]\n",
    "    correct=0\n",
    "    x=0\n",
    "    while x<test:\n",
    "        applicant=random.sample(score,total)\n",
    "        part1=applicant[0:first]\n",
    "        part2=applicant[first:]\n",
    "        best=max(applicant)\n",
    "        better_in_part1=max(part1)\n",
    "        if better_in_part1 > total*100*admit:\n",
    "            continue\n",
    "        for i in part2:\n",
    "            if i > better_in_part1 :\n",
    "                better_in_part1 = i\n",
    "                break\n",
    "        if (better_in_part1 in part2) and better_in_part1==best:\n",
    "            correct=correct+1\n",
    "        x=x+1\n",
    "    return correct/test\n",
    "\n",
    "#結果\n",
    "print('correct rate:',get_rate(total,first,test,admit))"
   ]
  },
  {
   "cell_type": "code",
   "execution_count": 3,
   "metadata": {},
   "outputs": [
    {
     "name": "stdout",
     "output_type": "stream",
     "text": [
      "第 36 個有最高的答對率\n"
     ]
    },
    {
     "data": {
      "image/png": "[encoded data removed]",
      "text/plain": [
       "<Figure size 432x288 with 1 Axes>"
      ]
     },
     "metadata": {
      "needs_background": "light"
     },
     "output_type": "display_data"
    }
   ],
   "source": [
    "import matplotlib.pyplot as plt\n",
    "rate1=[]\n",
    "number=[x for x in range(1,101)]\n",
    "for i in number:\n",
    "    rate1.append(get_rate(100,i,1000,100))\n",
    "plt.bar(number,rate1)\n",
    "plt.show\n",
    "print('第',rate1.index(max(rate1))+1,'個有最高的答對率')"
   ]
  },
  {
   "cell_type": "code",
   "execution_count": 97,
   "metadata": {
    "scrolled": false
   },
   "outputs": [
    {
     "name": "stdout",
     "output_type": "stream",
     "text": [
      "直接錄取在 81 PR有最高的答對率\n"
     ]
    },
    {
     "data": {
      "image/png": "[encoded data removed]",
      "text/plain": [
       "<Figure size 432x288 with 1 Axes>"
      ]
     },
     "metadata": {
      "needs_background": "light"
     },
     "output_type": "display_data"
    }
   ],
   "source": [
    "rate2=[]\n",
    "number2=[x for x in range(50,101)]\n",
    "for e in number2:\n",
    "    rate2.append(get_rate(10,4,1000,e/100))\n",
    "plt.bar(number2,rate2)\n",
    "plt.show\n",
    "print('直接錄取在',50+(rate2.index(max(rate2))),'PR有最高的答對率')"
   ]
  },
  {
   "cell_type": "code",
   "execution_count": 96,
   "metadata": {},
   "outputs": [
    {
     "name": "stdout",
     "output_type": "stream",
     "text": [
      "在測試有 600 次可以有最高的答對率\n"
     ]
    },
    {
     "data": {
      "image/png": "[encoded data removed]",
      "text/plain": [
       "<Figure size 432x288 with 1 Axes>"
      ]
     },
     "metadata": {
      "needs_background": "light"
     },
     "output_type": "display_data"
    }
   ],
   "source": [
    "rate3=[]\n",
    "number3=[x for x in range(100,2001,100)]\n",
    "for h in number3:\n",
    "    rate3.append(get_rate(10,4,h,100))\n",
    "plt.bar(number3,rate3,width=20)\n",
    "plt.show\n",
    "print('在測試有',100+(rate3.index(max(rate3)))*100,'次可以有最高的答對率')"
   ]
  }
 ],
 "metadata": {
  "kernelspec": {
   "display_name": "Python 3",
   "language": "python",
   "name": "python3"
  },
  "language_info": {
   "codemirror_mode": {
    "name": "ipython",
    "version": 3
   },
   "file_extension": ".py",
   "mimetype": "text/x-python",
   "name": "python",
   "nbconvert_exporter": "python",
   "pygments_lexer": "ipython3",
   "version": "3.7.2"
  }
 },
 "nbformat": 4,
 "nbformat_minor": 2
}
